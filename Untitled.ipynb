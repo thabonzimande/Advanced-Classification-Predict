{
 "cells": [
  {
   "cell_type": "markdown",
   "id": "ba4be780",
   "metadata": {},
   "source": [
    "## Project Introduction"
   ]
  },
  {
   "cell_type": "markdown",
   "id": "6416e252",
   "metadata": {},
   "source": [
    "Many companies are built around lessening one’s environmental impact or carbon footprint. They offer products and services that are environmentally friendly and sustainable, in line with their values and ideals. They would like to determine how people perceive climate change and whether or not they believe it is a real threat. This would add to their market research efforts in gauging how their product/service may be received.\n",
    "\n",
    "With this context, I am chllanehged with the task of creating a Machine Learning model that is able to classify whether or not a person believes in climate change, based on their novel tweet data.\n",
    "\n",
    "Providing an accurate and robust solution to this task gives companies access to a broad base of consumer sentiment, spanning multiple demographic and geographic categories - thus increasing their insights and informing future marketing strategies."
   ]
  },
  {
   "cell_type": "markdown",
   "id": "c502331c",
   "metadata": {},
   "source": [
    "## Problem Statement"
   ]
  },
  {
   "cell_type": "markdown",
   "id": "836ddc7a",
   "metadata": {},
   "source": [
    "To create an Advanced Classification Model that will be able to predict a person’s belief in Climate Change based on their tweet data, allowing companies to gain access into customer sentiment."
   ]
  },
  {
   "cell_type": "markdown",
   "id": "f3e1705f",
   "metadata": {},
   "source": [
    "<a id=\"cont\"></a>\n",
    "\n",
    "## Table of Contents\n",
    "\n",
    "<a href=#one>1. Importing Packages</a>\n",
    "\n",
    "<a href=#two>2. Loading the Datasets</a>\n",
    "\n",
    "<a href=#three>3. Exploratory Data Analysis (EDA)</a>\n",
    "\n",
    "<a href=#four>4. Data Engineering</a>\n",
    "\n",
    "<a href=#five>5. Modeling</a>\n",
    "\n",
    "<a href=#six>6. Model Performance</a>\n",
    "\n",
    "<a href=#seven>7. Model Explanations</a>"
   ]
  },
  {
   "cell_type": "markdown",
   "id": "e63754bc",
   "metadata": {},
   "source": [
    " <a id=\"one\"></a>\n",
    "## 1. Importing Relevant Packages\n",
    "<a href=#cont>Back to Table of Contents</a>"
   ]
  },
  {
   "cell_type": "code",
   "execution_count": 79,
   "id": "43399331",
   "metadata": {},
   "outputs": [
    {
     "name": "stderr",
     "output_type": "stream",
     "text": [
      "[nltk_data] Downloading package stopwords to\n",
      "[nltk_data]     C:\\Users\\PSCadmin\\AppData\\Roaming\\nltk_data...\n",
      "[nltk_data]   Package stopwords is already up-to-date!\n",
      "[nltk_data] Downloading package punkt to\n",
      "[nltk_data]     C:\\Users\\PSCadmin\\AppData\\Roaming\\nltk_data...\n",
      "[nltk_data]   Package punkt is already up-to-date!\n"
     ]
    },
    {
     "data": {
      "text/plain": [
       "True"
      ]
     },
     "execution_count": 79,
     "metadata": {},
     "output_type": "execute_result"
    }
   ],
   "source": [
    "import pandas as pd\n",
    "import numpy as np\n",
    "import nltk\n",
    "import string\n",
    "import re\n",
    "\n",
    "# Import Libraries for Data Visualisation\n",
    "from sklearn.feature_extraction.text import TfidfVectorizer\n",
    "\n",
    "# Import Machine Learning models\n",
    "from sklearn.svm import SVC\n",
    "from sklearn import metrics\n",
    "from sklearn.svm import LinearSVC\n",
    "from sklearn.tree import DecisionTreeClassifier\n",
    "from sklearn.model_selection import GridSearchCV, RandomizedSearchCV\n",
    "from sklearn.neighbors import KNeighborsClassifier\n",
    "from sklearn.model_selection import StratifiedKFold, cross_val_score\n",
    "from sklearn.linear_model import LogisticRegression\n",
    "from sklearn.linear_model import LogisticRegression\n",
    "from sklearn.ensemble import RandomForestClassifier, AdaBoostClassifier\n",
    "from sklearn.ensemble import VotingClassifier\n",
    "\n",
    "from nltk.stem import WordNetLemmatizer\n",
    "from nltk.corpus import stopwords\n",
    "\n",
    "from sklearn.metrics import f1_score\n",
    "\n",
    "# Import Libraries for Data Visualisation\n",
    "import seaborn as sns\n",
    "import matplotlib.pyplot as plt\n",
    "%matplotlib inline\n",
    "\n",
    "# Import libraries for Natural Languge Processing\n",
    "import re\n",
    "import nltk\n",
    "import numpy as np\n",
    "import pandas as pd\n",
    "from nltk.corpus import stopwords\n",
    "from html.parser import HTMLParser\n",
    "from nltk.stem import PorterStemmer\n",
    "from nltk.tokenize import word_tokenize\n",
    "nltk.download('stopwords')\n",
    "nltk.download('punkt')"
   ]
  },
  {
   "cell_type": "markdown",
   "id": "7b9766ce",
   "metadata": {},
   "source": [
    "\n",
    "<a id=\"two\"></a>\n",
    "## 2. Loading the Datasets\n",
    "<a class=\"anchor\" id=\"1.1\"></a>\n",
    "<a href=#cont>Back to Table of Contents</a>"
   ]
  },
  {
   "cell_type": "code",
   "execution_count": 45,
   "id": "7d01b39f",
   "metadata": {},
   "outputs": [],
   "source": [
    "#loading the train dataset\n",
    "train_df = pd.read_csv('train.csv')\n",
    "\n",
    "#loading the test dataset\n",
    "test_df = pd.read_csv('test.csv')"
   ]
  },
  {
   "cell_type": "markdown",
   "id": "f023e6cb",
   "metadata": {},
   "source": [
    "### Checking that they both loaded successfully"
   ]
  },
  {
   "cell_type": "code",
   "execution_count": 46,
   "id": "8941b14b",
   "metadata": {},
   "outputs": [
    {
     "data": {
      "text/html": [
       "<div>\n",
       "<style scoped>\n",
       "    .dataframe tbody tr th:only-of-type {\n",
       "        vertical-align: middle;\n",
       "    }\n",
       "\n",
       "    .dataframe tbody tr th {\n",
       "        vertical-align: top;\n",
       "    }\n",
       "\n",
       "    .dataframe thead th {\n",
       "        text-align: right;\n",
       "    }\n",
       "</style>\n",
       "<table border=\"1\" class=\"dataframe\">\n",
       "  <thead>\n",
       "    <tr style=\"text-align: right;\">\n",
       "      <th></th>\n",
       "      <th>sentiment</th>\n",
       "      <th>message</th>\n",
       "      <th>tweetid</th>\n",
       "    </tr>\n",
       "  </thead>\n",
       "  <tbody>\n",
       "    <tr>\n",
       "      <th>0</th>\n",
       "      <td>1</td>\n",
       "      <td>PolySciMajor EPA chief doesn't think carbon di...</td>\n",
       "      <td>625221</td>\n",
       "    </tr>\n",
       "    <tr>\n",
       "      <th>1</th>\n",
       "      <td>1</td>\n",
       "      <td>It's not like we lack evidence of anthropogeni...</td>\n",
       "      <td>126103</td>\n",
       "    </tr>\n",
       "    <tr>\n",
       "      <th>2</th>\n",
       "      <td>2</td>\n",
       "      <td>RT @RawStory: Researchers say we have three ye...</td>\n",
       "      <td>698562</td>\n",
       "    </tr>\n",
       "    <tr>\n",
       "      <th>3</th>\n",
       "      <td>1</td>\n",
       "      <td>#TodayinMaker# WIRED : 2016 was a pivotal year...</td>\n",
       "      <td>573736</td>\n",
       "    </tr>\n",
       "    <tr>\n",
       "      <th>4</th>\n",
       "      <td>1</td>\n",
       "      <td>RT @SoyNovioDeTodas: It's 2016, and a racist, ...</td>\n",
       "      <td>466954</td>\n",
       "    </tr>\n",
       "  </tbody>\n",
       "</table>\n",
       "</div>"
      ],
      "text/plain": [
       "   sentiment                                            message  tweetid\n",
       "0          1  PolySciMajor EPA chief doesn't think carbon di...   625221\n",
       "1          1  It's not like we lack evidence of anthropogeni...   126103\n",
       "2          2  RT @RawStory: Researchers say we have three ye...   698562\n",
       "3          1  #TodayinMaker# WIRED : 2016 was a pivotal year...   573736\n",
       "4          1  RT @SoyNovioDeTodas: It's 2016, and a racist, ...   466954"
      ]
     },
     "execution_count": 46,
     "metadata": {},
     "output_type": "execute_result"
    }
   ],
   "source": [
    "train_df.head()"
   ]
  },
  {
   "cell_type": "code",
   "execution_count": 47,
   "id": "63a361d1",
   "metadata": {},
   "outputs": [
    {
     "data": {
      "text/html": [
       "<div>\n",
       "<style scoped>\n",
       "    .dataframe tbody tr th:only-of-type {\n",
       "        vertical-align: middle;\n",
       "    }\n",
       "\n",
       "    .dataframe tbody tr th {\n",
       "        vertical-align: top;\n",
       "    }\n",
       "\n",
       "    .dataframe thead th {\n",
       "        text-align: right;\n",
       "    }\n",
       "</style>\n",
       "<table border=\"1\" class=\"dataframe\">\n",
       "  <thead>\n",
       "    <tr style=\"text-align: right;\">\n",
       "      <th></th>\n",
       "      <th>message</th>\n",
       "      <th>tweetid</th>\n",
       "    </tr>\n",
       "  </thead>\n",
       "  <tbody>\n",
       "    <tr>\n",
       "      <th>0</th>\n",
       "      <td>Europe will now be looking to China to make su...</td>\n",
       "      <td>169760</td>\n",
       "    </tr>\n",
       "    <tr>\n",
       "      <th>1</th>\n",
       "      <td>Combine this with the polling of staffers re c...</td>\n",
       "      <td>35326</td>\n",
       "    </tr>\n",
       "    <tr>\n",
       "      <th>2</th>\n",
       "      <td>The scary, unimpeachable evidence that climate...</td>\n",
       "      <td>224985</td>\n",
       "    </tr>\n",
       "    <tr>\n",
       "      <th>3</th>\n",
       "      <td>@Karoli @morgfair @OsborneInk @dailykos \\nPuti...</td>\n",
       "      <td>476263</td>\n",
       "    </tr>\n",
       "    <tr>\n",
       "      <th>4</th>\n",
       "      <td>RT @FakeWillMoore: 'Female orgasms cause globa...</td>\n",
       "      <td>872928</td>\n",
       "    </tr>\n",
       "  </tbody>\n",
       "</table>\n",
       "</div>"
      ],
      "text/plain": [
       "                                             message  tweetid\n",
       "0  Europe will now be looking to China to make su...   169760\n",
       "1  Combine this with the polling of staffers re c...    35326\n",
       "2  The scary, unimpeachable evidence that climate...   224985\n",
       "3  @Karoli @morgfair @OsborneInk @dailykos \\nPuti...   476263\n",
       "4  RT @FakeWillMoore: 'Female orgasms cause globa...   872928"
      ]
     },
     "execution_count": 47,
     "metadata": {},
     "output_type": "execute_result"
    }
   ],
   "source": [
    "test_df.head()"
   ]
  },
  {
   "cell_type": "markdown",
   "id": "7bf5cf8f",
   "metadata": {},
   "source": [
    "# <a id=\"three\"></a>\n",
    "## 3. Exploratory Data Analysis (EDA)\n",
    "<a class=\"anchor\" id=\"1.1\"></a>\n",
    "<a href=#cont>Back to Table of Contents</a>"
   ]
  },
  {
   "cell_type": "markdown",
   "id": "995208f3",
   "metadata": {},
   "source": [
    "Non-graphical EDA:\n",
    "\n",
    "- Involves calculations of summary/descriptive statistics\n",
    "\n",
    "Graphical EDA:\n",
    "\n",
    "- This type of analysis will contain data visualisations."
   ]
  },
  {
   "cell_type": "markdown",
   "id": "1ef28044",
   "metadata": {},
   "source": [
    "### Descriptive/Summary Statistics"
   ]
  },
  {
   "cell_type": "markdown",
   "id": "65004e98",
   "metadata": {},
   "source": [
    "### Basic Info"
   ]
  },
  {
   "cell_type": "code",
   "execution_count": 48,
   "id": "ddf3b384",
   "metadata": {},
   "outputs": [
    {
     "name": "stdout",
     "output_type": "stream",
     "text": [
      "<class 'pandas.core.frame.DataFrame'>\n",
      "RangeIndex: 15819 entries, 0 to 15818\n",
      "Data columns (total 3 columns):\n",
      " #   Column     Non-Null Count  Dtype \n",
      "---  ------     --------------  ----- \n",
      " 0   sentiment  15819 non-null  int64 \n",
      " 1   message    15819 non-null  object\n",
      " 2   tweetid    15819 non-null  int64 \n",
      "dtypes: int64(2), object(1)\n",
      "memory usage: 370.9+ KB\n"
     ]
    }
   ],
   "source": [
    "# Obseverving basic information\n",
    "train_df.info()"
   ]
  },
  {
   "cell_type": "markdown",
   "id": "99bf00b6",
   "metadata": {},
   "source": [
    "### Shape of the Dataset"
   ]
  },
  {
   "cell_type": "code",
   "execution_count": 49,
   "id": "9217f6b1",
   "metadata": {},
   "outputs": [
    {
     "name": "stdout",
     "output_type": "stream",
     "text": [
      "Train : rows, columns: (15819, 3)\n",
      "Test : rows, columns: (10546, 2)\n"
     ]
    }
   ],
   "source": [
    "# Observing the shape\n",
    "print('Train : rows, columns:',train_df.shape)\n",
    "print('Test : rows, columns:',test_df.shape)"
   ]
  },
  {
   "cell_type": "markdown",
   "id": "bedb29d6",
   "metadata": {},
   "source": [
    "### The Five-number Summary"
   ]
  },
  {
   "cell_type": "markdown",
   "id": "373b48ae",
   "metadata": {},
   "source": [
    "The five number summary is an important way of organizing data to show statistical importance through dispersion. This summary consists of the minimum, Quartile 1 (Q1), median (Q2), Quartile 3 (Q3), and the maximum; usually organized in that specific order on a box plot. The lower quartile (Q1) consists of the lower 25% of the data while the upper quartile (Q3) contains 25% of the highest numbers in the data set or 75% of the entire data. This statistical analysis is very useful for larger data because the median identifies the center of the data, the minimum and maximum gives the length of the data and the quartiles allows for further analysis of an assortment."
   ]
  },
  {
   "cell_type": "code",
   "execution_count": 50,
   "id": "871a1b14",
   "metadata": {},
   "outputs": [
    {
     "data": {
      "text/html": [
       "<div>\n",
       "<style scoped>\n",
       "    .dataframe tbody tr th:only-of-type {\n",
       "        vertical-align: middle;\n",
       "    }\n",
       "\n",
       "    .dataframe tbody tr th {\n",
       "        vertical-align: top;\n",
       "    }\n",
       "\n",
       "    .dataframe thead th {\n",
       "        text-align: right;\n",
       "    }\n",
       "</style>\n",
       "<table border=\"1\" class=\"dataframe\">\n",
       "  <thead>\n",
       "    <tr style=\"text-align: right;\">\n",
       "      <th></th>\n",
       "      <th>sentiment</th>\n",
       "      <th>tweetid</th>\n",
       "    </tr>\n",
       "  </thead>\n",
       "  <tbody>\n",
       "    <tr>\n",
       "      <th>count</th>\n",
       "      <td>15819.000000</td>\n",
       "      <td>15819.000000</td>\n",
       "    </tr>\n",
       "    <tr>\n",
       "      <th>mean</th>\n",
       "      <td>0.917504</td>\n",
       "      <td>501719.433656</td>\n",
       "    </tr>\n",
       "    <tr>\n",
       "      <th>std</th>\n",
       "      <td>0.836537</td>\n",
       "      <td>289045.983132</td>\n",
       "    </tr>\n",
       "    <tr>\n",
       "      <th>min</th>\n",
       "      <td>-1.000000</td>\n",
       "      <td>6.000000</td>\n",
       "    </tr>\n",
       "    <tr>\n",
       "      <th>25%</th>\n",
       "      <td>1.000000</td>\n",
       "      <td>253207.500000</td>\n",
       "    </tr>\n",
       "    <tr>\n",
       "      <th>50%</th>\n",
       "      <td>1.000000</td>\n",
       "      <td>502291.000000</td>\n",
       "    </tr>\n",
       "    <tr>\n",
       "      <th>75%</th>\n",
       "      <td>1.000000</td>\n",
       "      <td>753769.000000</td>\n",
       "    </tr>\n",
       "    <tr>\n",
       "      <th>max</th>\n",
       "      <td>2.000000</td>\n",
       "      <td>999888.000000</td>\n",
       "    </tr>\n",
       "  </tbody>\n",
       "</table>\n",
       "</div>"
      ],
      "text/plain": [
       "          sentiment        tweetid\n",
       "count  15819.000000   15819.000000\n",
       "mean       0.917504  501719.433656\n",
       "std        0.836537  289045.983132\n",
       "min       -1.000000       6.000000\n",
       "25%        1.000000  253207.500000\n",
       "50%        1.000000  502291.000000\n",
       "75%        1.000000  753769.000000\n",
       "max        2.000000  999888.000000"
      ]
     },
     "execution_count": 50,
     "metadata": {},
     "output_type": "execute_result"
    }
   ],
   "source": [
    "train_df.describe()"
   ]
  },
  {
   "cell_type": "markdown",
   "id": "50d16e89",
   "metadata": {},
   "source": [
    "## Null Values"
   ]
  },
  {
   "cell_type": "code",
   "execution_count": 51,
   "id": "5ee7d489",
   "metadata": {},
   "outputs": [
    {
     "data": {
      "text/plain": [
       "sentiment    0\n",
       "message      0\n",
       "tweetid      0\n",
       "dtype: int64"
      ]
     },
     "execution_count": 51,
     "metadata": {},
     "output_type": "execute_result"
    }
   ],
   "source": [
    "train_df.isnull().sum()"
   ]
  },
  {
   "cell_type": "markdown",
   "id": "c8e78953",
   "metadata": {},
   "source": [
    "- As we can see there are no null values"
   ]
  },
  {
   "cell_type": "markdown",
   "id": "06feb80f",
   "metadata": {},
   "source": [
    "## Sentiment Distrubution"
   ]
  },
  {
   "cell_type": "code",
   "execution_count": 52,
   "id": "a2be39ba",
   "metadata": {},
   "outputs": [
    {
     "data": {
      "text/plain": [
       "Text(0.5, 1.0, 'Sentiment Distributions')"
      ]
     },
     "execution_count": 52,
     "metadata": {},
     "output_type": "execute_result"
    },
    {
     "data": {
      "image/png": "[encoded data removed]",
      "text/plain": [
       "<Figure size 640x480 with 1 Axes>"
      ]
     },
     "metadata": {},
     "output_type": "display_data"
    }
   ],
   "source": [
    "# Create class distribution dataframe\n",
    "class_dist = pd.DataFrame(list(train_df['sentiment'].value_counts()),\n",
    "                          index=['Pro', 'News', 'Neutral', 'Anti'],\n",
    "                          columns=['Count'])\n",
    "\n",
    "# Plot class distribution\n",
    "sns.set(style=\"whitegrid\")\n",
    "sns.barplot(x=class_dist.index, y=class_dist.Count, \n",
    "           palette=\"Blues_d\")\n",
    "plt.title('Sentiment Distributions')"
   ]
  },
  {
   "cell_type": "markdown",
   "id": "d380d411",
   "metadata": {},
   "source": [
    "<a id=\"four\"></a>\n",
    "## 4. Data Engineering\n",
    "<a class=\"anchor\" id=\"1.1\"></a>\n",
    "<a href=#cont>Back to Table of Contents</a>\n"
   ]
  },
  {
   "cell_type": "markdown",
   "id": "1f58b76b",
   "metadata": {},
   "source": [
    "## Cleaning The Tweet Data"
   ]
  },
  {
   "cell_type": "code",
   "execution_count": 53,
   "id": "21904a17",
   "metadata": {},
   "outputs": [
    {
     "name": "stderr",
     "output_type": "stream",
     "text": [
      "C:\\Users\\PSCadmin\\AppData\\Local\\Temp\\ipykernel_1356\\401304435.py:5: FutureWarning: The default value of regex will change from True to False in a future version.\n",
      "  tweets = raw_tweets.str.replace(r'^.+@[^\\.].*\\.[a-z]{2,}$',\n"
     ]
    }
   ],
   "source": [
    "# Extracting tweets from the dataframe & creating a new dataframe\n",
    "raw_tweets = train_df['message']\n",
    "\n",
    "# Replacing email addresses with 'email'\n",
    "tweets = raw_tweets.str.replace(r'^.+@[^\\.].*\\.[a-z]{2,}$',\n",
    "                                 'emailaddress')"
   ]
  },
  {
   "cell_type": "code",
   "execution_count": 54,
   "id": "4fd18f49",
   "metadata": {},
   "outputs": [
    {
     "name": "stderr",
     "output_type": "stream",
     "text": [
      "C:\\Users\\PSCadmin\\AppData\\Local\\Temp\\ipykernel_1356\\2757507518.py:3: FutureWarning: The default value of regex will change from True to False in a future version.\n",
      "  tweets = raw_tweets.str.replace(r'^.+@[^\\.].*\\.[a-z]{2,}$',\n"
     ]
    }
   ],
   "source": [
    "raw_tweets = train_df['message']\n",
    "# Replacing email addresses with 'email'\n",
    "tweets = raw_tweets.str.replace(r'^.+@[^\\.].*\\.[a-z]{2,}$',\n",
    "                                 'emailaddress')"
   ]
  },
  {
   "cell_type": "code",
   "execution_count": 55,
   "id": "f50016db",
   "metadata": {},
   "outputs": [
    {
     "name": "stderr",
     "output_type": "stream",
     "text": [
      "C:\\Users\\PSCadmin\\AppData\\Local\\Temp\\ipykernel_1356\\2029607776.py:2: FutureWarning: The default value of regex will change from True to False in a future version.\n",
      "  tweets = tweets.str.replace(r'(\\\\u[0-9A-Fa-f]+)', '')\n",
      "C:\\Users\\PSCadmin\\AppData\\Local\\Temp\\ipykernel_1356\\2029607776.py:3: FutureWarning: The default value of regex will change from True to False in a future version.\n",
      "  tweets = tweets.str.replace(r'[^\\x00-\\x7f]', '')\n"
     ]
    }
   ],
   "source": [
    "# Removing unicode strings\n",
    "tweets = tweets.str.replace(r'(\\\\u[0-9A-Fa-f]+)', '')\n",
    "tweets = tweets.str.replace(r'[^\\x00-\\x7f]', '')"
   ]
  },
  {
   "cell_type": "code",
   "execution_count": 56,
   "id": "c379f206",
   "metadata": {},
   "outputs": [
    {
     "name": "stderr",
     "output_type": "stream",
     "text": [
      "C:\\Users\\PSCadmin\\AppData\\Local\\Temp\\ipykernel_1356\\2029607776.py:2: FutureWarning: The default value of regex will change from True to False in a future version.\n",
      "  tweets = tweets.str.replace(r'(\\\\u[0-9A-Fa-f]+)', '')\n",
      "C:\\Users\\PSCadmin\\AppData\\Local\\Temp\\ipykernel_1356\\2029607776.py:3: FutureWarning: The default value of regex will change from True to False in a future version.\n",
      "  tweets = tweets.str.replace(r'[^\\x00-\\x7f]', '')\n"
     ]
    }
   ],
   "source": [
    "# Removing unicode strings\n",
    "tweets = tweets.str.replace(r'(\\\\u[0-9A-Fa-f]+)', '')\n",
    "tweets = tweets.str.replace(r'[^\\x00-\\x7f]', '')"
   ]
  },
  {
   "cell_type": "code",
   "execution_count": 57,
   "id": "ef0405c4",
   "metadata": {},
   "outputs": [
    {
     "name": "stderr",
     "output_type": "stream",
     "text": [
      "C:\\Users\\PSCadmin\\AppData\\Local\\Temp\\ipykernel_1356\\3762059664.py:2: FutureWarning: The default value of regex will change from True to False in a future version.\n",
      "  tweets = tweets.str.replace('((www\\.[^\\s]+)|(https?://[^\\s]+))',\n"
     ]
    }
   ],
   "source": [
    "# Converting any url to URL\n",
    "tweets = tweets.str.replace('((www\\.[^\\s]+)|(https?://[^\\s]+))',\n",
    "                            'website')"
   ]
  },
  {
   "cell_type": "code",
   "execution_count": 58,
   "id": "78927bf0",
   "metadata": {},
   "outputs": [
    {
     "name": "stderr",
     "output_type": "stream",
     "text": [
      "C:\\Users\\PSCadmin\\AppData\\Local\\Temp\\ipykernel_1356\\4087606644.py:2: FutureWarning: The default value of regex will change from True to False in a future version.\n",
      "  tweets = tweets.str.replace('[^a-zA-Z#@]+',' ')\n"
     ]
    }
   ],
   "source": [
    "# Removing special characters, numbers and punctuation\n",
    "tweets = tweets.str.replace('[^a-zA-Z#@]+',' ')"
   ]
  },
  {
   "cell_type": "code",
   "execution_count": 59,
   "id": "ec5af028",
   "metadata": {},
   "outputs": [
    {
     "name": "stderr",
     "output_type": "stream",
     "text": [
      "C:\\Users\\PSCadmin\\AppData\\Local\\Temp\\ipykernel_1356\\1586472358.py:2: FutureWarning: The default value of regex will change from True to False in a future version.\n",
      "  tweets = tweets.str.replace(r'\\s+', ' ')\n",
      "C:\\Users\\PSCadmin\\AppData\\Local\\Temp\\ipykernel_1356\\1586472358.py:3: FutureWarning: The default value of regex will change from True to False in a future version.\n",
      "  tweets = tweets.str.replace(r'^\\s+|\\s+?$', '')\n"
     ]
    }
   ],
   "source": [
    "# Removing additional white spaces\n",
    "tweets = tweets.str.replace(r'\\s+', ' ')\n",
    "tweets = tweets.str.replace(r'^\\s+|\\s+?$', '')"
   ]
  },
  {
   "cell_type": "code",
   "execution_count": 60,
   "id": "f5851d1e",
   "metadata": {},
   "outputs": [],
   "source": [
    "# Changing words to lower case\n",
    "tweets = tweets.str.lower()"
   ]
  },
  {
   "cell_type": "code",
   "execution_count": 61,
   "id": "9bbfd547",
   "metadata": {},
   "outputs": [],
   "source": [
    "# Removing stop words from tweets\n",
    "stop_words = set(stopwords.words('english'))\n",
    "\n",
    "tweets = tweets.apply(lambda x: ' '.join(\n",
    "    word for word in x.split() if word not in stop_words))"
   ]
  },
  {
   "cell_type": "code",
   "execution_count": 62,
   "id": "ab4f52c8",
   "metadata": {},
   "outputs": [],
   "source": [
    "# Creating a dataframe from the cleaned up message column\n",
    "tweets_df = pd.DataFrame(tweets)"
   ]
  },
  {
   "cell_type": "code",
   "execution_count": 65,
   "id": "42cc72d3",
   "metadata": {},
   "outputs": [],
   "source": [
    "# Adding sentiment column to the tweets dataframe\n",
    "tweets_df['sentiment'] = train_df['sentiment']"
   ]
  },
  {
   "cell_type": "code",
   "execution_count": 66,
   "id": "8957be8a",
   "metadata": {},
   "outputs": [
    {
     "data": {
      "text/html": [
       "<div>\n",
       "<style scoped>\n",
       "    .dataframe tbody tr th:only-of-type {\n",
       "        vertical-align: middle;\n",
       "    }\n",
       "\n",
       "    .dataframe tbody tr th {\n",
       "        vertical-align: top;\n",
       "    }\n",
       "\n",
       "    .dataframe thead th {\n",
       "        text-align: right;\n",
       "    }\n",
       "</style>\n",
       "<table border=\"1\" class=\"dataframe\">\n",
       "  <thead>\n",
       "    <tr style=\"text-align: right;\">\n",
       "      <th></th>\n",
       "      <th>message</th>\n",
       "      <th>sentiment</th>\n",
       "    </tr>\n",
       "  </thead>\n",
       "  <tbody>\n",
       "    <tr>\n",
       "      <th>0</th>\n",
       "      <td>polyscimajor epa chief think carbon dioxide ma...</td>\n",
       "      <td>1</td>\n",
       "    </tr>\n",
       "    <tr>\n",
       "      <th>1</th>\n",
       "      <td>like lack evidence anthropogenic global warming</td>\n",
       "      <td>1</td>\n",
       "    </tr>\n",
       "    <tr>\n",
       "      <th>2</th>\n",
       "      <td>rt @rawstory researchers say three years act c...</td>\n",
       "      <td>2</td>\n",
       "    </tr>\n",
       "    <tr>\n",
       "      <th>3</th>\n",
       "      <td>#todayinmaker# wired pivotal year war climate ...</td>\n",
       "      <td>1</td>\n",
       "    </tr>\n",
       "    <tr>\n",
       "      <th>4</th>\n",
       "      <td>rt @soynoviodetodas racist sexist climate chan...</td>\n",
       "      <td>1</td>\n",
       "    </tr>\n",
       "  </tbody>\n",
       "</table>\n",
       "</div>"
      ],
      "text/plain": [
       "                                             message  sentiment\n",
       "0  polyscimajor epa chief think carbon dioxide ma...          1\n",
       "1    like lack evidence anthropogenic global warming          1\n",
       "2  rt @rawstory researchers say three years act c...          2\n",
       "3  #todayinmaker# wired pivotal year war climate ...          1\n",
       "4  rt @soynoviodetodas racist sexist climate chan...          1"
      ]
     },
     "execution_count": 66,
     "metadata": {},
     "output_type": "execute_result"
    }
   ],
   "source": [
    "# Viewing our new dataframe and its new features\n",
    "tweets_df.head()"
   ]
  },
  {
   "cell_type": "markdown",
   "id": "e9a3d22f",
   "metadata": {},
   "source": [
    "<a id=\"five\"></a>\n",
    "## 5. Modelling\n",
    "<a class=\"anchor\" id=\"1.1\"></a>\n",
    "<a href=#cont>Back to Table of Contents</a>"
   ]
  },
  {
   "cell_type": "code",
   "execution_count": 69,
   "id": "24f7158c",
   "metadata": {},
   "outputs": [],
   "source": [
    "# Setting the parameters for the Vectorizer\n",
    "\n",
    "vectorizer = TfidfVectorizer(analyzer = 'word', \n",
    "                             tokenizer = None, \n",
    "                             preprocessor = None, \n",
    "                             stop_words = None, \n",
    "                             max_features = 180000,\n",
    "                             min_df = 1,\n",
    "                             ngram_range = (1,2)\n",
    "                            )"
   ]
  },
  {
   "cell_type": "markdown",
   "id": "2d140c26",
   "metadata": {},
   "source": [
    "## Train/test Split:"
   ]
  },
  {
   "cell_type": "code",
   "execution_count": 71,
   "id": "4b4177ab",
   "metadata": {},
   "outputs": [],
   "source": [
    "y = train_df[\"sentiment\"]\n",
    "x = train_df[\"message\"]"
   ]
  },
  {
   "cell_type": "code",
   "execution_count": 72,
   "id": "fe2f265e",
   "metadata": {},
   "outputs": [],
   "source": [
    "vectorizer = TfidfVectorizer(ngram_range=(1,2), min_df=2, stop_words=\"english\")\n",
    "x_vectorized = vectorizer.fit_transform(x)"
   ]
  },
  {
   "cell_type": "code",
   "execution_count": 73,
   "id": "45a682de",
   "metadata": {},
   "outputs": [],
   "source": [
    "# Splitting the data into train & test sets\n",
    "X_train, X_test, y_train, y_test = train_test_split(x_vectorized,y,test_size=.3,shuffle=True, stratify=y, random_state=11)"
   ]
  },
  {
   "cell_type": "markdown",
   "id": "12b2928c",
   "metadata": {},
   "source": [
    "## Declaring the Predictive Models for this project"
   ]
  },
  {
   "cell_type": "code",
   "execution_count": 76,
   "id": "611d432b",
   "metadata": {},
   "outputs": [],
   "source": [
    "# These are the different Classification models we will train our data on\n",
    "# Creating a list of names so we can print metrics for the entire list at once\n",
    "names = ['Logistic Regression'\n",
    "         ,'LinearSVC'\n",
    "         ,'Random Forest'\n",
    "         ,  'AdaBoost'\n",
    "]"
   ]
  },
  {
   "cell_type": "code",
   "execution_count": 77,
   "id": "d4126c36",
   "metadata": {},
   "outputs": [],
   "source": [
    "# These are the different Classification models we will train our data on\n",
    "# Creating a list of names so we can print metrics for the entire list at once\n",
    "classifiers = [\n",
    "    LogisticRegression()\n",
    "    , LinearSVC()\n",
    "    , RandomForestClassifier(max_depth=5, n_estimators=10, max_features=1)\n",
    "    , AdaBoostClassifier()\n",
    "]"
   ]
  },
  {
   "cell_type": "code",
   "execution_count": 80,
   "id": "b169c0d0",
   "metadata": {},
   "outputs": [
    {
     "name": "stdout",
     "output_type": "stream",
     "text": [
      "Fitting Logistic Regression model...\n"
     ]
    },
    {
     "name": "stderr",
     "output_type": "stream",
     "text": [
      "C:\\Users\\PSCadmin\\anaconda3\\lib\\site-packages\\sklearn\\linear_model\\_logistic.py:814: ConvergenceWarning: lbfgs failed to converge (status=1):\n",
      "STOP: TOTAL NO. of ITERATIONS REACHED LIMIT.\n",
      "\n",
      "Increase the number of iterations (max_iter) or scale the data as shown in:\n",
      "    https://scikit-learn.org/stable/modules/preprocessing.html\n",
      "Please also refer to the documentation for alternative solver options:\n",
      "    https://scikit-learn.org/stable/modules/linear_model.html#logistic-regression\n",
      "  n_iter_i = _check_optimize_result(\n",
      "C:\\Users\\PSCadmin\\anaconda3\\lib\\site-packages\\sklearn\\linear_model\\_logistic.py:814: ConvergenceWarning: lbfgs failed to converge (status=1):\n",
      "STOP: TOTAL NO. of ITERATIONS REACHED LIMIT.\n",
      "\n",
      "Increase the number of iterations (max_iter) or scale the data as shown in:\n",
      "    https://scikit-learn.org/stable/modules/preprocessing.html\n",
      "Please also refer to the documentation for alternative solver options:\n",
      "    https://scikit-learn.org/stable/modules/linear_model.html#logistic-regression\n",
      "  n_iter_i = _check_optimize_result(\n",
      "C:\\Users\\PSCadmin\\anaconda3\\lib\\site-packages\\sklearn\\linear_model\\_logistic.py:814: ConvergenceWarning: lbfgs failed to converge (status=1):\n",
      "STOP: TOTAL NO. of ITERATIONS REACHED LIMIT.\n",
      "\n",
      "Increase the number of iterations (max_iter) or scale the data as shown in:\n",
      "    https://scikit-learn.org/stable/modules/preprocessing.html\n",
      "Please also refer to the documentation for alternative solver options:\n",
      "    https://scikit-learn.org/stable/modules/linear_model.html#logistic-regression\n",
      "  n_iter_i = _check_optimize_result(\n",
      "C:\\Users\\PSCadmin\\anaconda3\\lib\\site-packages\\sklearn\\linear_model\\_logistic.py:814: ConvergenceWarning: lbfgs failed to converge (status=1):\n",
      "STOP: TOTAL NO. of ITERATIONS REACHED LIMIT.\n",
      "\n",
      "Increase the number of iterations (max_iter) or scale the data as shown in:\n",
      "    https://scikit-learn.org/stable/modules/preprocessing.html\n",
      "Please also refer to the documentation for alternative solver options:\n",
      "    https://scikit-learn.org/stable/modules/linear_model.html#logistic-regression\n",
      "  n_iter_i = _check_optimize_result(\n",
      "C:\\Users\\PSCadmin\\anaconda3\\lib\\site-packages\\sklearn\\linear_model\\_logistic.py:814: ConvergenceWarning: lbfgs failed to converge (status=1):\n",
      "STOP: TOTAL NO. of ITERATIONS REACHED LIMIT.\n",
      "\n",
      "Increase the number of iterations (max_iter) or scale the data as shown in:\n",
      "    https://scikit-learn.org/stable/modules/preprocessing.html\n",
      "Please also refer to the documentation for alternative solver options:\n",
      "    https://scikit-learn.org/stable/modules/linear_model.html#logistic-regression\n",
      "  n_iter_i = _check_optimize_result(\n",
      "C:\\Users\\PSCadmin\\anaconda3\\lib\\site-packages\\sklearn\\linear_model\\_logistic.py:814: ConvergenceWarning: lbfgs failed to converge (status=1):\n",
      "STOP: TOTAL NO. of ITERATIONS REACHED LIMIT.\n",
      "\n",
      "Increase the number of iterations (max_iter) or scale the data as shown in:\n",
      "    https://scikit-learn.org/stable/modules/preprocessing.html\n",
      "Please also refer to the documentation for alternative solver options:\n",
      "    https://scikit-learn.org/stable/modules/linear_model.html#logistic-regression\n",
      "  n_iter_i = _check_optimize_result(\n",
      "C:\\Users\\PSCadmin\\anaconda3\\lib\\site-packages\\sklearn\\linear_model\\_logistic.py:814: ConvergenceWarning: lbfgs failed to converge (status=1):\n",
      "STOP: TOTAL NO. of ITERATIONS REACHED LIMIT.\n",
      "\n",
      "Increase the number of iterations (max_iter) or scale the data as shown in:\n",
      "    https://scikit-learn.org/stable/modules/preprocessing.html\n",
      "Please also refer to the documentation for alternative solver options:\n",
      "    https://scikit-learn.org/stable/modules/linear_model.html#logistic-regression\n",
      "  n_iter_i = _check_optimize_result(\n",
      "C:\\Users\\PSCadmin\\anaconda3\\lib\\site-packages\\sklearn\\linear_model\\_logistic.py:814: ConvergenceWarning: lbfgs failed to converge (status=1):\n",
      "STOP: TOTAL NO. of ITERATIONS REACHED LIMIT.\n",
      "\n",
      "Increase the number of iterations (max_iter) or scale the data as shown in:\n",
      "    https://scikit-learn.org/stable/modules/preprocessing.html\n",
      "Please also refer to the documentation for alternative solver options:\n",
      "    https://scikit-learn.org/stable/modules/linear_model.html#logistic-regression\n",
      "  n_iter_i = _check_optimize_result(\n"
     ]
    },
    {
     "name": "stdout",
     "output_type": "stream",
     "text": [
      "... predicting\n",
      "... scoring\n",
      "Fitting LinearSVC model...\n",
      "... predicting\n",
      "... scoring\n",
      "Fitting Random Forest model...\n",
      "... predicting\n",
      "... scoring\n",
      "Fitting AdaBoost model...\n"
     ]
    },
    {
     "name": "stderr",
     "output_type": "stream",
     "text": [
      "C:\\Users\\PSCadmin\\anaconda3\\lib\\site-packages\\sklearn\\metrics\\_classification.py:1318: UndefinedMetricWarning: Precision is ill-defined and being set to 0.0 in labels with no predicted samples. Use `zero_division` parameter to control this behavior.\n",
      "  _warn_prf(average, modifier, msg_start, len(result))\n",
      "C:\\Users\\PSCadmin\\anaconda3\\lib\\site-packages\\sklearn\\metrics\\_classification.py:1318: UndefinedMetricWarning: Precision and F-score are ill-defined and being set to 0.0 in labels with no predicted samples. Use `zero_division` parameter to control this behavior.\n",
      "  _warn_prf(average, modifier, msg_start, len(result))\n",
      "C:\\Users\\PSCadmin\\anaconda3\\lib\\site-packages\\sklearn\\metrics\\_classification.py:1318: UndefinedMetricWarning: Precision and F-score are ill-defined and being set to 0.0 in labels with no predicted samples. Use `zero_division` parameter to control this behavior.\n",
      "  _warn_prf(average, modifier, msg_start, len(result))\n",
      "C:\\Users\\PSCadmin\\anaconda3\\lib\\site-packages\\sklearn\\metrics\\_classification.py:1318: UndefinedMetricWarning: Precision and F-score are ill-defined and being set to 0.0 in labels with no predicted samples. Use `zero_division` parameter to control this behavior.\n",
      "  _warn_prf(average, modifier, msg_start, len(result))\n"
     ]
    },
    {
     "name": "stdout",
     "output_type": "stream",
     "text": [
      "... predicting\n",
      "... scoring\n"
     ]
    }
   ],
   "source": [
    "# Training of models, scoring & appending to results list\n",
    "results = []\n",
    "\n",
    "# Creating dictionaries to store evaluation results\n",
    "models = {}\n",
    "confusion = {}\n",
    "class_report = {}\n",
    "\n",
    "# This will calculate the total training time of each model\n",
    "for name, clf in zip(names, classifiers):\n",
    "    print ('Fitting {:s} model...'.format(name))\n",
    "    run_time = %timeit -q -o clf.fit(X_train, y_train)\n",
    "\n",
    "# This will show us the status of the training\n",
    "    print ('... predicting')\n",
    "    y_pred = clf.predict(X_train)\n",
    "    y_pred_test = clf.predict(X_test)\n",
    "\n",
    "# This will show us the status of the scoring\n",
    "    print ('... scoring')\n",
    "    \n",
    "# These are our evaluation measures\n",
    "    accuracy  = metrics.accuracy_score(y_train, y_pred)\n",
    "    precision = metrics.precision_score(y_train, y_pred, average='macro')\n",
    "    recall    = metrics.recall_score(y_train, y_pred, average='macro')\n",
    "\n",
    "    f1        = metrics.f1_score(y_train, y_pred, average='macro')\n",
    "    f1_test   = metrics.f1_score(y_test, y_pred_test, average='macro')\n",
    "\n",
    "# Save the results to dictionaries\n",
    "    models[name] = clf\n",
    "    confusion[name] = metrics.confusion_matrix(y_train, y_pred)\n",
    "    class_report[name] = metrics.classification_report(y_train, y_pred)\n",
    "\n",
    "    results.append([name, accuracy, precision,\n",
    "                    recall, f1, f1_test, run_time.best])\n",
    "\n",
    "# Creating a dataframe of the results to view easily\n",
    "results = pd.DataFrame(results, columns=['Classifier', 'Accuracy',\n",
    "                                         'Precision', 'Recall', 'F1 Train',\n",
    "                                         'F1 Test', 'Train Time'])\n",
    "results.set_index('Classifier', inplace= True)"
   ]
  },
  {
   "cell_type": "markdown",
   "id": "e1c1d7bb",
   "metadata": {},
   "source": [
    "a id=\"six\"></a>\n",
    "## 6. Model Performance\n",
    "<a class=\"anchor\" id=\"1.1\"></a>\n",
    "<a href=#cont>Back to Table of Contents</a>"
   ]
  },
  {
   "cell_type": "code",
   "execution_count": 82,
   "id": "650d968e",
   "metadata": {},
   "outputs": [
    {
     "data": {
      "text/html": [
       "<div>\n",
       "<style scoped>\n",
       "    .dataframe tbody tr th:only-of-type {\n",
       "        vertical-align: middle;\n",
       "    }\n",
       "\n",
       "    .dataframe tbody tr th {\n",
       "        vertical-align: top;\n",
       "    }\n",
       "\n",
       "    .dataframe thead th {\n",
       "        text-align: right;\n",
       "    }\n",
       "</style>\n",
       "<table border=\"1\" class=\"dataframe\">\n",
       "  <thead>\n",
       "    <tr style=\"text-align: right;\">\n",
       "      <th></th>\n",
       "      <th>Accuracy</th>\n",
       "      <th>Precision</th>\n",
       "      <th>Recall</th>\n",
       "      <th>F1 Train</th>\n",
       "      <th>F1 Test</th>\n",
       "      <th>Train Time</th>\n",
       "    </tr>\n",
       "    <tr>\n",
       "      <th>Classifier</th>\n",
       "      <th></th>\n",
       "      <th></th>\n",
       "      <th></th>\n",
       "      <th></th>\n",
       "      <th></th>\n",
       "      <th></th>\n",
       "    </tr>\n",
       "  </thead>\n",
       "  <tbody>\n",
       "    <tr>\n",
       "      <th>LinearSVC</th>\n",
       "      <td>0.987718</td>\n",
       "      <td>0.990208</td>\n",
       "      <td>0.982592</td>\n",
       "      <td>0.986338</td>\n",
       "      <td>0.643597</td>\n",
       "      <td>0.152589</td>\n",
       "    </tr>\n",
       "    <tr>\n",
       "      <th>Logistic Regression</th>\n",
       "      <td>0.858304</td>\n",
       "      <td>0.910727</td>\n",
       "      <td>0.735440</td>\n",
       "      <td>0.791749</td>\n",
       "      <td>0.582924</td>\n",
       "      <td>2.384288</td>\n",
       "    </tr>\n",
       "    <tr>\n",
       "      <th>AdaBoost</th>\n",
       "      <td>0.638400</td>\n",
       "      <td>0.645844</td>\n",
       "      <td>0.472950</td>\n",
       "      <td>0.511150</td>\n",
       "      <td>0.472957</td>\n",
       "      <td>8.331412</td>\n",
       "    </tr>\n",
       "    <tr>\n",
       "      <th>Random Forest</th>\n",
       "      <td>0.539240</td>\n",
       "      <td>0.134810</td>\n",
       "      <td>0.250000</td>\n",
       "      <td>0.175164</td>\n",
       "      <td>0.175154</td>\n",
       "      <td>0.033312</td>\n",
       "    </tr>\n",
       "  </tbody>\n",
       "</table>\n",
       "</div>"
      ],
      "text/plain": [
       "                     Accuracy  Precision    Recall  F1 Train   F1 Test  \\\n",
       "Classifier                                                               \n",
       "LinearSVC            0.987718   0.990208  0.982592  0.986338  0.643597   \n",
       "Logistic Regression  0.858304   0.910727  0.735440  0.791749  0.582924   \n",
       "AdaBoost             0.638400   0.645844  0.472950  0.511150  0.472957   \n",
       "Random Forest        0.539240   0.134810  0.250000  0.175164  0.175154   \n",
       "\n",
       "                     Train Time  \n",
       "Classifier                       \n",
       "LinearSVC              0.152589  \n",
       "Logistic Regression    2.384288  \n",
       "AdaBoost               8.331412  \n",
       "Random Forest          0.033312  "
      ]
     },
     "execution_count": 82,
     "metadata": {},
     "output_type": "execute_result"
    }
   ],
   "source": [
    "# Viewing the results in a dataframe\n",
    "results.sort_values('F1 Test', ascending=False)"
   ]
  },
  {
   "cell_type": "markdown",
   "id": "e03fc050",
   "metadata": {},
   "source": [
    "- The LinearSVC model outperforms every other model in every aspect"
   ]
  },
  {
   "cell_type": "code",
   "execution_count": 83,
   "id": "4f9db664",
   "metadata": {},
   "outputs": [
    {
     "data": {
      "text/plain": [
       "<AxesSubplot:xlabel='Classifier'>"
      ]
     },
     "execution_count": 83,
     "metadata": {},
     "output_type": "execute_result"
    },
    {
     "data": {
      "image/png": "[encoded data removed]",
      "text/plain": [
       "<Figure size 1000x500 with 2 Axes>"
      ]
     },
     "metadata": {},
     "output_type": "display_data"
    }
   ],
   "source": [
    "fig, ax = plt.subplots(1, 2, figsize=(10, 5))\n",
    "results.sort_values('F1 Train', ascending=False, inplace=True)\n",
    "results.plot(y=['F1 Test'], kind='bar', ax=ax[0],\n",
    "             xlim=[0,1.1], ylim=[0.15,0.92])"
   ]
  },
  {
   "cell_type": "code",
   "execution_count": 85,
   "id": "881c67de",
   "metadata": {},
   "outputs": [],
   "source": [
    "# Setting the number of folds\n",
    "\n",
    "kfold = StratifiedKFold( n_splits = 150)"
   ]
  },
  {
   "cell_type": "code",
   "execution_count": 86,
   "id": "5b269a63",
   "metadata": {},
   "outputs": [
    {
     "name": "stdout",
     "output_type": "stream",
     "text": [
      "Fitting 150 folds for each of 4 candidates, totalling 600 fits\n",
      "{'C': 0.09}\n",
      "0.7192299148463532\n"
     ]
    }
   ],
   "source": [
    "# Linear SVC model\n",
    "#Set the parameters according to the first run output (C = 0.09)\n",
    "param_grid2 = {'C': [0.01, 0.03, 0.06, 0.09]}\n",
    "\n",
    "# Grid Search on the Linear SVC model\n",
    "gs_sv = GridSearchCV(LinearSVC(), param_grid = [param_grid2], \n",
    "                     verbose = 1, cv = kfold, n_jobs = -1)\n",
    "\n",
    "# Fitting the model to our data\n",
    "gs_sv.fit(X_train, y_train)\n",
    "\n",
    "# Find the best estimator\n",
    "gs_sv_best = gs_sv.best_estimator_\n",
    "\n",
    "# Print the best parameters\n",
    "print(gs_sv.best_params_)\n",
    "\n",
    "# Print the best score\n",
    "print(gs_sv.best_score_)"
   ]
  },
  {
   "cell_type": "code",
   "execution_count": 89,
   "id": "99a6de17",
   "metadata": {},
   "outputs": [
    {
     "name": "stdout",
     "output_type": "stream",
     "text": [
      "{'C': 0.09}\n",
      "0.7192299148463532\n"
     ]
    }
   ],
   "source": [
    "# Building Linear SVC model with best parameters\n",
    "lr_svc = LinearSVC(C=0.06)\n",
    "\n",
    "# Training the model on the whole training dataset\n",
    "lr_svc.fit(x_vectorized, train_df['sentiment'])\n",
    "\n",
    "# Print the best parameters\n",
    "print(gs_sv.best_params_)\n",
    "\n",
    "# Print the best score\n",
    "print(gs_sv.best_score_)"
   ]
  },
  {
   "cell_type": "code",
   "execution_count": 107,
   "id": "21d3d8b2",
   "metadata": {},
   "outputs": [],
   "source": [
    "y_pred_test = lr_svc.predict(X_test)"
   ]
  },
  {
   "cell_type": "code",
   "execution_count": 91,
   "id": "13377fb1",
   "metadata": {},
   "outputs": [],
   "source": [
    "testx = test_df[\"message\"]\n",
    "test_vect = vectorizer.transform(testx)"
   ]
  },
  {
   "cell_type": "code",
   "execution_count": 112,
   "id": "a11855ab",
   "metadata": {},
   "outputs": [],
   "source": [
    "test_df[\"sentiment\"] = train_df[\"sentiment\"]"
   ]
  },
  {
   "cell_type": "code",
   "execution_count": 114,
   "id": "01357491",
   "metadata": {},
   "outputs": [
    {
     "data": {
      "text/html": [
       "<div>\n",
       "<style scoped>\n",
       "    .dataframe tbody tr th:only-of-type {\n",
       "        vertical-align: middle;\n",
       "    }\n",
       "\n",
       "    .dataframe tbody tr th {\n",
       "        vertical-align: top;\n",
       "    }\n",
       "\n",
       "    .dataframe thead th {\n",
       "        text-align: right;\n",
       "    }\n",
       "</style>\n",
       "<table border=\"1\" class=\"dataframe\">\n",
       "  <thead>\n",
       "    <tr style=\"text-align: right;\">\n",
       "      <th></th>\n",
       "      <th>message</th>\n",
       "      <th>sentiment</th>\n",
       "    </tr>\n",
       "  </thead>\n",
       "  <tbody>\n",
       "    <tr>\n",
       "      <th>0</th>\n",
       "      <td>Europe will now be looking to China to make su...</td>\n",
       "      <td>1</td>\n",
       "    </tr>\n",
       "    <tr>\n",
       "      <th>1</th>\n",
       "      <td>Combine this with the polling of staffers re c...</td>\n",
       "      <td>1</td>\n",
       "    </tr>\n",
       "    <tr>\n",
       "      <th>2</th>\n",
       "      <td>The scary, unimpeachable evidence that climate...</td>\n",
       "      <td>2</td>\n",
       "    </tr>\n",
       "    <tr>\n",
       "      <th>3</th>\n",
       "      <td>@Karoli @morgfair @OsborneInk @dailykos \\nPuti...</td>\n",
       "      <td>1</td>\n",
       "    </tr>\n",
       "    <tr>\n",
       "      <th>4</th>\n",
       "      <td>RT @FakeWillMoore: 'Female orgasms cause globa...</td>\n",
       "      <td>1</td>\n",
       "    </tr>\n",
       "    <tr>\n",
       "      <th>...</th>\n",
       "      <td>...</td>\n",
       "      <td>...</td>\n",
       "    </tr>\n",
       "    <tr>\n",
       "      <th>10541</th>\n",
       "      <td>RT @BrittanyBohrer: Brb, writing a poem about ...</td>\n",
       "      <td>2</td>\n",
       "    </tr>\n",
       "    <tr>\n",
       "      <th>10542</th>\n",
       "      <td>2016: the year climate change came home: Durin...</td>\n",
       "      <td>1</td>\n",
       "    </tr>\n",
       "    <tr>\n",
       "      <th>10543</th>\n",
       "      <td>RT @loop_vanuatu: Pacific countries positive a...</td>\n",
       "      <td>1</td>\n",
       "    </tr>\n",
       "    <tr>\n",
       "      <th>10544</th>\n",
       "      <td>RT @xanria_00018: You’re so hot, you must be t...</td>\n",
       "      <td>0</td>\n",
       "    </tr>\n",
       "    <tr>\n",
       "      <th>10545</th>\n",
       "      <td>RT @chloebalaoing: climate change is a global ...</td>\n",
       "      <td>1</td>\n",
       "    </tr>\n",
       "  </tbody>\n",
       "</table>\n",
       "<p>10546 rows × 2 columns</p>\n",
       "</div>"
      ],
      "text/plain": [
       "                                                 message  sentiment\n",
       "0      Europe will now be looking to China to make su...          1\n",
       "1      Combine this with the polling of staffers re c...          1\n",
       "2      The scary, unimpeachable evidence that climate...          2\n",
       "3      @Karoli @morgfair @OsborneInk @dailykos \\nPuti...          1\n",
       "4      RT @FakeWillMoore: 'Female orgasms cause globa...          1\n",
       "...                                                  ...        ...\n",
       "10541  RT @BrittanyBohrer: Brb, writing a poem about ...          2\n",
       "10542  2016: the year climate change came home: Durin...          1\n",
       "10543  RT @loop_vanuatu: Pacific countries positive a...          1\n",
       "10544  RT @xanria_00018: You’re so hot, you must be t...          0\n",
       "10545  RT @chloebalaoing: climate change is a global ...          1\n",
       "\n",
       "[10546 rows x 2 columns]"
      ]
     },
     "execution_count": 114,
     "metadata": {},
     "output_type": "execute_result"
    }
   ],
   "source": [
    "load = test_df[[\"message\",\"sentiment\"]]\n",
    "load.to_csv('Final_Kaggle_submission.csv', index = False)\n",
    "load"
   ]
  },
  {
   "cell_type": "markdown",
   "id": "b9887572",
   "metadata": {},
   "source": [
    "<a id=\"seven\"></a>\n",
    "## 7. Model Explanations\n",
    "<a class=\"anchor\" id=\"1.1\"></a>\n",
    "<a href=#cont>Back to Table of Contents</a>"
   ]
  },
  {
   "cell_type": "markdown",
   "id": "b483076c",
   "metadata": {},
   "source": [
    "## Advantages of using LinearSVC model are:\n",
    "\n",
    "- It is effective in high dimensional spaces, where the number of features is greater than the number of samples.\n",
    "- It has more flexibility in the choice of penalties and loss functions than SVC with kernel='linear’.\n",
    "- It should scale better to large numbers of samples, as it uses liblinear rather than libsvm implementation.\n",
    "- It is memory efficient, as it uses a subset of training points in the decision function, called support vectors."
   ]
  },
  {
   "cell_type": "code",
   "execution_count": null,
   "id": "2a4308c1",
   "metadata": {},
   "outputs": [],
   "source": []
  }
 ],
 "metadata": {
  "kernelspec": {
   "display_name": "Python 3 (ipykernel)",
   "language": "python",
   "name": "python3"
  },
  "language_info": {
   "codemirror_mode": {
    "name": "ipython",
    "version": 3
   },
   "file_extension": ".py",
   "mimetype": "text/x-python",
   "name": "python",
   "nbconvert_exporter": "python",
   "pygments_lexer": "ipython3",
   "version": "3.9.13"
  }
 },
 "nbformat": 4,
 "nbformat_minor": 5
}
